{
 "cells": [
  {
   "cell_type": "code",
   "execution_count": 3,
   "metadata": {},
   "outputs": [],
   "source": [
    "import ee\n",
    "from geemap import Map\n",
    "\n",
    "ee.Initialize()"
   ]
  },
  {
   "cell_type": "code",
   "execution_count": 4,
   "metadata": {},
   "outputs": [
    {
     "data": {
      "text/html": [
       "\n",
       "            <style>\n",
       "                .geemap-dark {\n",
       "                    --jp-widgets-color: white;\n",
       "                    --jp-widgets-label-color: white;\n",
       "                    --jp-ui-font-color1: white;\n",
       "                    --jp-layout-color2: #454545;\n",
       "                    background-color: #383838;\n",
       "                }\n",
       "\n",
       "                .geemap-dark .jupyter-button {\n",
       "                    --jp-layout-color3: #383838;\n",
       "                }\n",
       "\n",
       "                .geemap-colab {\n",
       "                    background-color: var(--colab-primary-surface-color, white);\n",
       "                }\n",
       "\n",
       "                .geemap-colab .jupyter-button {\n",
       "                    --jp-layout-color3: var(--colab-primary-surface-color, white);\n",
       "                }\n",
       "            </style>\n",
       "            "
      ],
      "text/plain": [
       "<IPython.core.display.HTML object>"
      ]
     },
     "metadata": {},
     "output_type": "display_data"
    }
   ],
   "source": [
    "# Define AOI and feature collections\n",
    "aoi = ee.FeatureCollection(\"projects/ee-classes24/assets/Narok\")\n",
    "crop = ee.FeatureCollection(\"projects/ee-classes24/assets/crop_narok\")\n",
    "other = ee.FeatureCollection(\"projects/ee-classes24/assets/other_narok\")"
   ]
  },
  {
   "cell_type": "code",
   "execution_count": 5,
   "metadata": {},
   "outputs": [
    {
     "data": {
      "text/html": [
       "\n",
       "            <style>\n",
       "                .geemap-dark {\n",
       "                    --jp-widgets-color: white;\n",
       "                    --jp-widgets-label-color: white;\n",
       "                    --jp-ui-font-color1: white;\n",
       "                    --jp-layout-color2: #454545;\n",
       "                    background-color: #383838;\n",
       "                }\n",
       "\n",
       "                .geemap-dark .jupyter-button {\n",
       "                    --jp-layout-color3: #383838;\n",
       "                }\n",
       "\n",
       "                .geemap-colab {\n",
       "                    background-color: var(--colab-primary-surface-color, white);\n",
       "                }\n",
       "\n",
       "                .geemap-colab .jupyter-button {\n",
       "                    --jp-layout-color3: var(--colab-primary-surface-color, white);\n",
       "                }\n",
       "            </style>\n",
       "            "
      ],
      "text/plain": [
       "<IPython.core.display.HTML object>"
      ]
     },
     "metadata": {},
     "output_type": "display_data"
    }
   ],
   "source": [
    "# Load Sentinel-2 ImageCollection and filter by AOI\n",
    "sentinel2 = ee.ImageCollection(\"COPERNICUS/S2_SR_HARMONIZED\").filterBounds(aoi)\n",
    "\n",
    "# Define date ranges for bi-weekly periods\n",
    "date_ranges = [\n",
    "    ['2023-03-01', '2023-03-15'], ['2023-03-16', '2023-03-31'],\n",
    "    ['2023-04-01', '2023-04-15'], ['2023-04-16', '2023-04-30'],\n",
    "    ['2023-05-01', '2023-05-15'], ['2023-05-16', '2023-05-31'],\n",
    "    ['2023-06-01', '2023-06-15'], ['2023-06-16', '2023-06-30'],\n",
    "    ['2023-07-01', '2023-07-15'], ['2023-07-16', '2023-07-31'],\n",
    "    ['2023-08-01', '2023-08-15'], ['2023-08-16', '2023-08-31']\n",
    "]"
   ]
  },
  {
   "cell_type": "code",
   "execution_count": 6,
   "metadata": {},
   "outputs": [
    {
     "data": {
      "text/html": [
       "\n",
       "            <style>\n",
       "                .geemap-dark {\n",
       "                    --jp-widgets-color: white;\n",
       "                    --jp-widgets-label-color: white;\n",
       "                    --jp-ui-font-color1: white;\n",
       "                    --jp-layout-color2: #454545;\n",
       "                    background-color: #383838;\n",
       "                }\n",
       "\n",
       "                .geemap-dark .jupyter-button {\n",
       "                    --jp-layout-color3: #383838;\n",
       "                }\n",
       "\n",
       "                .geemap-colab {\n",
       "                    background-color: var(--colab-primary-surface-color, white);\n",
       "                }\n",
       "\n",
       "                .geemap-colab .jupyter-button {\n",
       "                    --jp-layout-color3: var(--colab-primary-surface-color, white);\n",
       "                }\n",
       "            </style>\n",
       "            "
      ],
      "text/plain": [
       "<IPython.core.display.HTML object>"
      ]
     },
     "metadata": {},
     "output_type": "display_data"
    }
   ],
   "source": [
    "# Cloud masking function\n",
    "def mask_s2_clouds(image):\n",
    "    shadow = image.select('SCL').eq(3)  # Cloud shadows\n",
    "    cirrus = image.select('SCL').eq(10)  # Cirrus clouds\n",
    "    mask = image.select('QA60').Not().And(shadow.Not()).And(cirrus.Not())\n",
    "    return image.updateMask(mask).copyProperties(image, [\"system:time_start\"])\n",
    "\n",
    "# Function to compute NDVI and greenest pixel composite\n",
    "def compute_greenest_composite(date_range):\n",
    "    filtered = sentinel2.filterDate(date_range[0], date_range[1])\n",
    "    filtered = filtered.map(mask_s2_clouds)\n",
    "\n",
    "    def add_ndvi(img):\n",
    "        ndvi = img.expression(\n",
    "            '(B8 - B4) / (B8 + B4)', {\n",
    "                'B8': img.select('B8'),\n",
    "                'B4': img.select('B4')\n",
    "            }\n",
    "        ).rename('NDVI')\n",
    "        return img.addBands(ndvi)\n",
    "\n",
    "    with_ndvi = filtered.map(add_ndvi)\n",
    "    mosaic = with_ndvi.qualityMosaic('NDVI')\n",
    "    return mosaic.addBands(mosaic.select('NDVI')).select(['B2', 'B3', 'B4', 'B5', 'B8', 'B11', 'B12', 'NDVI']).clip(aoi)"
   ]
  },
  {
   "cell_type": "code",
   "execution_count": 7,
   "metadata": {},
   "outputs": [
    {
     "data": {
      "text/html": [
       "\n",
       "            <style>\n",
       "                .geemap-dark {\n",
       "                    --jp-widgets-color: white;\n",
       "                    --jp-widgets-label-color: white;\n",
       "                    --jp-ui-font-color1: white;\n",
       "                    --jp-layout-color2: #454545;\n",
       "                    background-color: #383838;\n",
       "                }\n",
       "\n",
       "                .geemap-dark .jupyter-button {\n",
       "                    --jp-layout-color3: #383838;\n",
       "                }\n",
       "\n",
       "                .geemap-colab {\n",
       "                    background-color: var(--colab-primary-surface-color, white);\n",
       "                }\n",
       "\n",
       "                .geemap-colab .jupyter-button {\n",
       "                    --jp-layout-color3: var(--colab-primary-surface-color, white);\n",
       "                }\n",
       "            </style>\n",
       "            "
      ],
      "text/plain": [
       "<IPython.core.display.HTML object>"
      ]
     },
     "metadata": {},
     "output_type": "display_data"
    }
   ],
   "source": [
    "# Compute greenest composites for each date range\n",
    "greenest_composites = [compute_greenest_composite(range) for range in date_ranges]\n",
    "\n",
    "# Extract NDVI bands and stack them\n",
    "def extract_ndvi(img, index):\n",
    "    return img.select('NDVI').rename(f'NDVI{index + 1}')\n",
    "\n",
    "ndvi_bands = [extract_ndvi(img, i) for i, img in enumerate(greenest_composites)]\n",
    "stacked_ndvi = ee.ImageCollection(ndvi_bands).toBands().multiply(100).add(100).uint8()\n",
    "\n",
    "# Merge crop and other feature collections\n",
    "training_features = crop.merge(other)\n",
    "\n",
    "# Sample training data\n",
    "training_data = stacked_ndvi.sampleRegions(\n",
    "    collection=training_features,\n",
    "    properties=['class'],\n",
    "    scale=30\n",
    ")\n"
   ]
  },
  {
   "cell_type": "code",
   "execution_count": 9,
   "metadata": {},
   "outputs": [
    {
     "data": {
      "text/html": [
       "\n",
       "            <style>\n",
       "                .geemap-dark {\n",
       "                    --jp-widgets-color: white;\n",
       "                    --jp-widgets-label-color: white;\n",
       "                    --jp-ui-font-color1: white;\n",
       "                    --jp-layout-color2: #454545;\n",
       "                    background-color: #383838;\n",
       "                }\n",
       "\n",
       "                .geemap-dark .jupyter-button {\n",
       "                    --jp-layout-color3: #383838;\n",
       "                }\n",
       "\n",
       "                .geemap-colab {\n",
       "                    background-color: var(--colab-primary-surface-color, white);\n",
       "                }\n",
       "\n",
       "                .geemap-colab .jupyter-button {\n",
       "                    --jp-layout-color3: var(--colab-primary-surface-color, white);\n",
       "                }\n",
       "            </style>\n",
       "            "
      ],
      "text/plain": [
       "<IPython.core.display.HTML object>"
      ]
     },
     "metadata": {},
     "output_type": "display_data"
    },
    {
     "data": {
      "application/vnd.jupyter.widget-view+json": {
       "model_id": "8983f6f0ae7d448c902155416fa7aaf5",
       "version_major": 2,
       "version_minor": 0
      },
      "text/plain": [
       "Map(center=[-1.2534642587579428, 35.575071087965014], controls=(WidgetControl(options=['position', 'transparen…"
      ]
     },
     "metadata": {},
     "output_type": "display_data"
    }
   ],
   "source": [
    "# Train classifier\n",
    "classifier = ee.Classifier.smileRandomForest(100).train(\n",
    "    features=training_data,\n",
    "    classProperty='class'\n",
    ")\n",
    "\n",
    "# Classify the stacked NDVI\n",
    "classified = stacked_ndvi.classify(classifier, 'Classified')\n",
    "\n",
    "# Mask for class 1 and visualize\n",
    "classified1 = classified.updateMask(classified.eq(1))\n",
    "\n",
    "# Visualize using geemap\n",
    "m = Map()\n",
    "m.add_basemap('HYBRID')  # Set background to Google Satellite Hybrid\n",
    "m.centerObject(aoi, 10)  # Zoom to AOI\n",
    "m.addLayer(stacked_ndvi, {'bands': ['8_NDVI9', '5_NDVI6', '2_NDVI3'], 'min': 0, 'max': 200}, 'Stacked_NDVI')\n",
    "m.addLayer(greenest_composites[5], {'bands': ['B8', 'B4', 'B3'], 'min': 0, 'max': 4000}, 'Greenest_Composite')\n",
    "m.addLayer(classified1, {'palette': ['yellow'], 'min': 0, 'max': 1}, 'Classified')\n",
    "m"
   ]
  },
  {
   "cell_type": "code",
   "execution_count": null,
   "metadata": {},
   "outputs": [
    {
     "data": {
      "text/html": [
       "\n",
       "            <style>\n",
       "                .geemap-dark {\n",
       "                    --jp-widgets-color: white;\n",
       "                    --jp-widgets-label-color: white;\n",
       "                    --jp-ui-font-color1: white;\n",
       "                    --jp-layout-color2: #454545;\n",
       "                    background-color: #383838;\n",
       "                }\n",
       "\n",
       "                .geemap-dark .jupyter-button {\n",
       "                    --jp-layout-color3: #383838;\n",
       "                }\n",
       "\n",
       "                .geemap-colab {\n",
       "                    background-color: var(--colab-primary-surface-color, white);\n",
       "                }\n",
       "\n",
       "                .geemap-colab .jupyter-button {\n",
       "                    --jp-layout-color3: var(--colab-primary-surface-color, white);\n",
       "                }\n",
       "            </style>\n",
       "            "
      ],
      "text/plain": [
       "<IPython.core.display.HTML object>"
      ]
     },
     "metadata": {},
     "output_type": "display_data"
    }
   ],
   "source": [
    "# Export the classified image\n",
    "export_task = ee.batch.Export.image.toDrive(\n",
    "    image=classified1.clip(aoi),\n",
    "    description='classified_image',\n",
    "    folder='GEE_exports',\n",
    "    region=aoi.geometry().bounds().getInfo()['coordinates'],\n",
    "    scale=30,\n",
    "    crs='EPSG:4326'\n",
    ")\n",
    "export_task.start()"
   ]
  }
 ],
 "metadata": {
  "kernelspec": {
   "display_name": "base",
   "language": "python",
   "name": "python3"
  },
  "language_info": {
   "codemirror_mode": {
    "name": "ipython",
    "version": 3
   },
   "file_extension": ".py",
   "mimetype": "text/x-python",
   "name": "python",
   "nbconvert_exporter": "python",
   "pygments_lexer": "ipython3",
   "version": "3.12.4"
  }
 },
 "nbformat": 4,
 "nbformat_minor": 2
}
